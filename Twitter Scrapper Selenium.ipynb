{
 "cells": [
  {
   "cell_type": "code",
   "execution_count": 3,
   "id": "3bb136d1-5cfd-4cff-82c6-a7d07b342b8b",
   "metadata": {},
   "outputs": [],
   "source": [
    "import csv\n",
    "from getpass import getpass\n",
    "from time import sleep\n",
    "from selenium.webdriver.common.keys import Keys\n",
    "from selenium.common.exceptions import NoSuchElementException\n",
    "from msedge.selenium_tools import Edge, EdgeOptions"
   ]
  },
  {
   "cell_type": "code",
   "execution_count": 4,
   "id": "a0d121a7-6dab-443a-9526-e458ba7c65c5",
   "metadata": {},
   "outputs": [
    {
     "name": "stderr",
     "output_type": "stream",
     "text": [
      "C:\\Users\\mratu\\AppData\\Local\\Temp\\ipykernel_5864\\898055590.py:3: DeprecationWarning: Selenium Tools for Microsoft Edge is deprecated. Please upgrade to Selenium 4 which has built-in support for Microsoft Edge (Chromium): https://docs.microsoft.com/en-us/microsoft-edge/webdriver-chromium/#upgrading-from-selenium-3\n",
      "  driver = Edge(options = options)\n"
     ]
    }
   ],
   "source": [
    "options = EdgeOptions()\n",
    "options.use_chromium = True\n",
    "driver = Edge(options = options)"
   ]
  },
  {
   "cell_type": "code",
   "execution_count": 7,
   "id": "dec6ede6-bea1-45f9-a595-1927c11b29f6",
   "metadata": {},
   "outputs": [],
   "source": [
    "driver.get(\"https://twitter.com/i/flow/login\")"
   ]
  },
  {
   "cell_type": "code",
   "execution_count": 8,
   "id": "ec649b3a-dbde-47d7-a093-a6be028ad3a1",
   "metadata": {},
   "outputs": [],
   "source": [
    "username = driver.find_element_by_xpath('//input[@name=\"text\"]')\n",
    "username.send_keys(\"mratunjya13@gmail.com\")"
   ]
  },
  {
   "cell_type": "code",
   "execution_count": 9,
   "id": "40be08a8-a9cb-42f6-a272-9e6c1adcfecf",
   "metadata": {},
   "outputs": [],
   "source": [
    "username.send_keys(Keys.RETURN)"
   ]
  },
  {
   "cell_type": "code",
   "execution_count": 10,
   "id": "cda1eef9-dc95-494e-8822-a21be65f23cc",
   "metadata": {},
   "outputs": [],
   "source": [
    "try:\n",
    "    username = driver.find_element_by_xpath('//input[@name=\"text\"]')\n",
    "    username.send_keys(\"mratunjya\")\n",
    "except:\n",
    "    console.log(\"Doesn't require username\")"
   ]
  },
  {
   "cell_type": "code",
   "execution_count": 11,
   "id": "ba5f9486-afea-4b53-ad63-d95f3f349187",
   "metadata": {},
   "outputs": [],
   "source": [
    "username.send_keys(Keys.RETURN)"
   ]
  },
  {
   "cell_type": "code",
   "execution_count": 12,
   "id": "6ee9c8d2-de25-4bb6-bb7e-b107d0b8c84b",
   "metadata": {},
   "outputs": [
    {
     "name": "stdin",
     "output_type": "stream",
     "text": [
      " ········\n"
     ]
    }
   ],
   "source": [
    "my_password = getpass()"
   ]
  },
  {
   "cell_type": "code",
   "execution_count": 13,
   "id": "00b3d9eb-4974-4f5f-8d8d-551276552bf4",
   "metadata": {},
   "outputs": [],
   "source": [
    "password = driver.find_element_by_xpath('//input[@name=\"password\"]')\n",
    "password.send_keys(my_password)"
   ]
  },
  {
   "cell_type": "code",
   "execution_count": 14,
   "id": "338cd0ba-e05d-40d2-b6af-4c446042af07",
   "metadata": {},
   "outputs": [],
   "source": [
    "password.send_keys(Keys.RETURN)"
   ]
  },
  {
   "cell_type": "code",
   "execution_count": 10,
   "id": "559bd89c-ab73-4339-b556-55549ff3f561",
   "metadata": {},
   "outputs": [],
   "source": [
    "# driver.get(\"https://twitter.com/mratunjya\")\n",
    "# driver.get(\"https://twitter.com/pathak__aditya\")\n",
    "driver.get(\"https://twitter.com/akshay___sh\")"
   ]
  },
  {
   "cell_type": "code",
   "execution_count": 11,
   "id": "6a9e11c4-6e16-4641-8c1e-3eabeb0683cc",
   "metadata": {},
   "outputs": [],
   "source": [
    "nameAndUserName = driver.find_element_by_xpath('//div[@data-testid=\"UserName\"]')"
   ]
  },
  {
   "cell_type": "code",
   "execution_count": 12,
   "id": "b72db6f3-57a5-48a9-96e9-de7296416ec9",
   "metadata": {},
   "outputs": [],
   "source": [
    "nameAndUserName = nameAndUserName.text.split('\\n')\n",
    "name = nameAndUserName[0]\n",
    "username = nameAndUserName[1]\n",
    "username = username[1:len(username)]"
   ]
  },
  {
   "cell_type": "code",
   "execution_count": 13,
   "id": "2b7e1d4b-5d7d-4098-8ce2-32082861eb9b",
   "metadata": {},
   "outputs": [
    {
     "name": "stdout",
     "output_type": "stream",
     "text": [
      "Name:\t\t Akshay Sharmaᅠᅠᅠᅠᅠᅠᅠᅠᅠᅠᅠᅠᅠᅠᅠᅠᅠᅠᅠᅠᅠᅠᅠᅠᅠᅠᅠᅠᅠᅠᅠᅠᅠᅠᅠ\n",
      "Username:\t akshay___sh\n"
     ]
    }
   ],
   "source": [
    "print(\"Name:\\t\\t\", name)\n",
    "print(\"Username:\\t\", username)"
   ]
  },
  {
   "cell_type": "code",
   "execution_count": 14,
   "id": "53a94e1b-8afd-420d-a7c9-9d4a0127955d",
   "metadata": {},
   "outputs": [
    {
     "name": "stdout",
     "output_type": "stream",
     "text": [
      "Bio: ! Living The Reality !\n"
     ]
    }
   ],
   "source": [
    "bio = driver.find_element_by_xpath('//div[@data-testid=\"UserDescription\"]').text\n",
    "print(\"Bio:\", bio)"
   ]
  },
  {
   "cell_type": "code",
   "execution_count": 15,
   "id": "d5e8819a-9f67-4271-b501-218d899470d7",
   "metadata": {},
   "outputs": [
    {
     "name": "stdout",
     "output_type": "stream",
     "text": [
      "Location: Bareilly, U.P\n"
     ]
    }
   ],
   "source": [
    "location = driver.find_element_by_xpath('//span[@data-testid=\"UserLocation\"]').text\n",
    "print(\"Location:\", location)"
   ]
  },
  {
   "cell_type": "code",
   "execution_count": 16,
   "id": "863d558c-39fa-40ce-93b4-5c3b99120c61",
   "metadata": {},
   "outputs": [
    {
     "name": "stdout",
     "output_type": "stream",
     "text": [
      "Join Date: July 2019\n"
     ]
    }
   ],
   "source": [
    "joinDate = driver.find_element_by_xpath('//span[@data-testid=\"UserJoinDate\"]').text.split()\n",
    "joinDate = joinDate[1: len(joinDate)]\n",
    "joinDate = ' '.join(joinDate)\n",
    "print(\"Join Date:\", joinDate)"
   ]
  },
  {
   "cell_type": "code",
   "execution_count": 17,
   "id": "59530a2c-3352-4493-b703-6db4e6b1bda2",
   "metadata": {},
   "outputs": [
    {
     "name": "stdout",
     "output_type": "stream",
     "text": [
      "Following: 155\n"
     ]
    }
   ],
   "source": [
    "following = driver.find_element_by_xpath('//a[@href=\"/{}/following\"]'.format(username)).text.split()[0]\n",
    "print(\"Following:\", following)"
   ]
  },
  {
   "cell_type": "code",
   "execution_count": 18,
   "id": "b2319cbc-2450-4c94-a688-8c207beadbc0",
   "metadata": {},
   "outputs": [
    {
     "name": "stdout",
     "output_type": "stream",
     "text": [
      "Followers: 14\n"
     ]
    }
   ],
   "source": [
    "followers = driver.find_element_by_xpath('//a[@href=\"/{}/followers\"]'.format(username)).text.split()[0]\n",
    "print(\"Followers:\", followers)"
   ]
  },
  {
   "cell_type": "code",
   "execution_count": 19,
   "id": "c52357a7-d963-490a-abb6-189584579d0e",
   "metadata": {},
   "outputs": [],
   "source": [
    "homeTimeline = driver.find_element_by_xpath('//div[@aria-label=\"Home timeline\"]')\n",
    "homeTimeline = homeTimeline.text.split('\\n')"
   ]
  },
  {
   "cell_type": "code",
   "execution_count": 20,
   "id": "e548aa99-3dc3-48bd-9445-631f4bea8bda",
   "metadata": {},
   "outputs": [
    {
     "name": "stdout",
     "output_type": "stream",
     "text": [
      "Total Tweets Posted: 15 Tweets\n"
     ]
    }
   ],
   "source": [
    "tweets = homeTimeline[1]\n",
    "print(\"Total Tweets Posted:\", tweets)"
   ]
  },
  {
   "cell_type": "code",
   "execution_count": 21,
   "id": "571e82da-4b6f-425c-bc94-b0bb939f77b8",
   "metadata": {},
   "outputs": [
    {
     "name": "stdout",
     "output_type": "stream",
     "text": [
      "Birth date: 2001 5, May\n"
     ]
    }
   ],
   "source": [
    "try:\n",
    "    birthDay = driver.find_element_by_xpath('//span[@data-testid=\"UserBirthdate\"]').text.split()\n",
    "    birthDay.remove('Born')\n",
    "    birthDay.reverse()\n",
    "    birthDay = ' '.join(birthDay)\n",
    "    print(\"Birth date:\", birthDay)\n",
    "except:\n",
    "    print(\"Birth date is Hidden\")"
   ]
  },
  {
   "cell_type": "code",
   "execution_count": null,
   "id": "58280a5b-7758-4c6f-9305-1d73f034eeef",
   "metadata": {},
   "outputs": [
    {
     "name": "stdout",
     "output_type": "stream",
     "text": [
      "Tweets & ReTweets by akshay___sh\n",
      "\n",
      "\n",
      "Retweet\n",
      "Name: Priyal Bhatewara\n",
      "User Name: Jun 27, 2022\n",
      "When: Jun 27, 2022\n",
      "Total Likes: 1,185\n",
      "Total Re Tweets: 45\n",
      "Total Reply: 55\n",
      "\n",
      "-----------------------------------------Post:-----------------------------------------\n",
      " Jun 27, 2022\n",
      "Just got a text from a person who got a direct internship offer from Microsoft through engage, asking me which language to choose and how to study DSA.\n",
      "\n",
      "\n",
      "\n",
      "Name: Akshay Sharmaᅠᅠᅠᅠᅠᅠᅠᅠᅠᅠᅠᅠᅠᅠᅠᅠᅠᅠᅠᅠᅠᅠᅠᅠᅠᅠᅠᅠᅠᅠᅠᅠᅠᅠᅠ\n",
      "User Name: @akshay___sh\n",
      "When: Feb 9, 2022\n",
      "Total Likes: 1\n",
      "Total Re Tweets: Just wondering, we live in a society where a person with a great skill set is less valuable than who is pursuing http://b.tech, does a degree define a person's abilities?\n",
      "Total Reply: Feb 9, 2022\n",
      "\n",
      "-----------------------------------------Post:-----------------------------------------\n",
      " \n",
      "\n",
      "\n",
      "Retweet\n",
      "Name: hackCBS 5.0\n",
      "User Name: Sep 5, 2021\n",
      "When: Sep 5, 2021\n",
      "Total Likes: 25\n",
      "Total Re Tweets: 18\n",
      "Total Reply: 2\n",
      "\n",
      "-----------------------------------------Post:-----------------------------------------\n",
      " Sep 5, 2021\n",
      "Hola Hackers!!\n",
      "Register now at: http://hackcbs.tech (in bio)\n",
      "Mark your calendar for 29th - 31st October, 2021 for India's biggest student run hackathon. \n",
      "Revolutionize the digital Era with our digital hackathon!\n",
      "\n",
      "\n",
      "Name: TheFuture.University\n",
      "User Name: @The_Future_Uni\n",
      "When: Does your daily trading of options result in losses?\n",
      "Total Likes: Promoted\n",
      "Total Re Tweets: 430\n",
      "Total Reply: 220\n",
      "\n",
      "-----------------------------------------Post:-----------------------------------------\n",
      " \n",
      "You're in luck - we will show you our 90 to 95% options accurate strategies, so that you can maximize your profits.\n",
      "\n",
      "Take advantage of the opportunity to learn from options trading experts for free!!\n",
      "thefuture.university\n",
      "Daily losses? Let us help. click now\n",
      "1.2M\n",
      "\n",
      "\n",
      "Retweet\n",
      "Name: hackCBS 5.0\n",
      "User Name: Aug 14, 2021\n",
      "When: Aug 14, 2021\n",
      "Total Likes: 15\n",
      "Total Re Tweets: 5\n",
      "Total Reply: To give you some better insights of our mega event, we are launching the most awaited hackCBS diaries. So gear up fellas because it's here\n",
      "\n",
      "-----------------------------------------Post:-----------------------------------------\n",
      " Aug 14, 2021\n",
      "What is that one aspect of life  which may either be wonderful or cumbersome, always teaches us something? Any guesses?\n",
      "\n",
      "\n"
     ]
    },
    {
     "name": "stdin",
     "output_type": "stream",
     "text": [
      "Want to load more? 1 for YES, any other number for NO: 1\n"
     ]
    },
    {
     "name": "stdout",
     "output_type": "stream",
     "text": [
      "Retweet\n",
      "Name: Priyal Bhatewara\n",
      "User Name: Jun 27, 2022\n",
      "When: Jun 27, 2022\n",
      "Total Likes: 1,185\n",
      "Total Re Tweets: 45\n",
      "Total Reply: 55\n",
      "\n",
      "-----------------------------------------Post:-----------------------------------------\n",
      " Jun 27, 2022\n",
      "Just got a text from a person who got a direct internship offer from Microsoft through engage, asking me which language to choose and how to study DSA.\n",
      "\n",
      "\n",
      "\n",
      "Name: Akshay Sharmaᅠᅠᅠᅠᅠᅠᅠᅠᅠᅠᅠᅠᅠᅠᅠᅠᅠᅠᅠᅠᅠᅠᅠᅠᅠᅠᅠᅠᅠᅠᅠᅠᅠᅠᅠ\n",
      "User Name: @akshay___sh\n",
      "When: Feb 9, 2022\n",
      "Total Likes: 1\n",
      "Total Re Tweets: Just wondering, we live in a society where a person with a great skill set is less valuable than who is pursuing http://b.tech, does a degree define a person's abilities?\n",
      "Total Reply: Feb 9, 2022\n",
      "\n",
      "-----------------------------------------Post:-----------------------------------------\n",
      " \n",
      "\n",
      "\n",
      "Retweet\n",
      "Name: hackCBS 5.0\n",
      "User Name: Sep 5, 2021\n",
      "When: Sep 5, 2021\n",
      "Total Likes: 25\n",
      "Total Re Tweets: 18\n",
      "Total Reply: 2\n",
      "\n",
      "-----------------------------------------Post:-----------------------------------------\n",
      " Sep 5, 2021\n",
      "Hola Hackers!!\n",
      "Register now at: http://hackcbs.tech (in bio)\n",
      "Mark your calendar for 29th - 31st October, 2021 for India's biggest student run hackathon. \n",
      "Revolutionize the digital Era with our digital hackathon!\n",
      "#hackCBS #mlh #elastic #hackathon #du #sscbs  #kronos #python\n",
      "0:17\n",
      "\n",
      "\n",
      "Name: TheFuture.University\n",
      "User Name: @The_Future_Uni\n",
      "When: Does your daily trading of options result in losses?\n",
      "Total Likes: Promoted\n",
      "Total Re Tweets: 430\n",
      "Total Reply: 220\n",
      "\n",
      "-----------------------------------------Post:-----------------------------------------\n",
      " \n",
      "You're in luck - we will show you our 90 to 95% options accurate strategies, so that you can maximize your profits.\n",
      "\n",
      "Take advantage of the opportunity to learn from options trading experts for free!!\n",
      "thefuture.university\n",
      "Daily losses? Let us help. click now\n",
      "1.2M\n",
      "\n",
      "\n",
      "Retweet\n",
      "Name: hackCBS 5.0\n",
      "User Name: Aug 14, 2021\n",
      "When: Aug 14, 2021\n",
      "Total Likes: 15\n",
      "Total Re Tweets: 5\n",
      "Total Reply: To give you some better insights of our mega event, we are launching the most awaited hackCBS diaries. So gear up fellas because it's here\n",
      "\n",
      "-----------------------------------------Post:-----------------------------------------\n",
      " Aug 14, 2021\n",
      "What is that one aspect of life  which may either be wonderful or cumbersome, always teaches us something? Any guesses?\n",
      "\n",
      "\n",
      "Name: Akshay Sharmaᅠᅠᅠᅠᅠᅠᅠᅠᅠᅠᅠᅠᅠᅠᅠᅠᅠᅠᅠᅠᅠᅠᅠᅠᅠᅠᅠᅠᅠᅠᅠᅠᅠᅠᅠ\n",
      "User Name: @akshay___sh\n",
      "When: Jul 29, 2021\n",
      "Total Likes: 1\n",
      "Total Re Tweets: #hackathon #programming #hackcbs #delhiuniversity #sscbs #coder #hackathonindia\n",
      "Total Reply: Follow us for more!\n",
      "\n",
      "-----------------------------------------Post:-----------------------------------------\n",
      " Here we go again\n",
      "hackCBS 5.0\n",
      "@hackCBS\n",
      "·\n",
      "Jul 29, 2021\n",
      "Summoning all the hackers!\n",
      "Rejoice, because yes, it's finally happening!\n",
      "\n",
      "\n"
     ]
    }
   ],
   "source": [
    "print(\"Tweets & ReTweets by {}\\n\\n\".format(username))\n",
    "a = 1\n",
    "\n",
    "try:\n",
    "    while(a == 1):\n",
    "        allLikedArticles = driver.find_elements_by_tag_name('article')\n",
    "        if len(allLikedArticles) > 0:\n",
    "            for article in allLikedArticles:\n",
    "                article = article.text.split('\\n')\n",
    "                try:\n",
    "                    article.remove('·')\n",
    "                except:\n",
    "                    article = article\n",
    "\n",
    "                n = article[0]\n",
    "                push = 0\n",
    "                if n.find('Retweeted') != -1:\n",
    "                    push = 1\n",
    "                    n = article[push + 0]\n",
    "                    print(\"Retweet\")\n",
    "                u = article[push + push + 1]\n",
    "                when = article[push + 2]\n",
    "                l = article[-1]\n",
    "                rt = article[-2]\n",
    "                rply = article[-3]\n",
    "                # view = article[-4]\n",
    "                post = article[3: len(article) - 4]\n",
    "                post = '\\n'.join(post)\n",
    "                print(\"Name:\", n)\n",
    "                print(\"User Name:\", u)\n",
    "                print(\"When:\", when)\n",
    "                print(\"Total Likes:\", l)\n",
    "                print(\"Total Re Tweets:\", rt)\n",
    "                print(\"Total Reply:\", rply)\n",
    "                # print(\"Total Views:\", view)\n",
    "                print(\"\\n-----------------------------------------Post:-----------------------------------------\\n\", post)\n",
    "                print(\"\\n\")\n",
    "            a = eval(input(\"Want to load more? 1 for YES, any other number for NO:\"))\n",
    "            if(a == 1):\n",
    "                sleep(1)\n",
    "        else:\n",
    "            print(\"No tweets\")\n",
    "            break;\n",
    "except:\n",
    "    print(\"Error! You may have entered some text\")"
   ]
  },
  {
   "cell_type": "code",
   "execution_count": 25,
   "id": "ba7a57a8-7424-4cec-8da6-96de9fc3db2b",
   "metadata": {},
   "outputs": [],
   "source": [
    "driver.get('https://twitter.com/{}/likes'.format(username))"
   ]
  },
  {
   "cell_type": "code",
   "execution_count": null,
   "id": "3b557a58-ffc5-48e1-ae34-93a5e2844bed",
   "metadata": {},
   "outputs": [],
   "source": [
    "homeTimeline = driver.find_element_by_xpath('//div[@aria-label=\"Home timeline\"]')\n",
    "homeTimeline = homeTimeline.text.split('\\n')"
   ]
  },
  {
   "cell_type": "code",
   "execution_count": null,
   "id": "9121bca3-7398-4299-a32f-a78a82ce7225",
   "metadata": {},
   "outputs": [
    {
     "name": "stdout",
     "output_type": "stream",
     "text": [
      "45 Likes\n"
     ]
    }
   ],
   "source": [
    "likes = homeTimeline[1]\n",
    "print(likes)"
   ]
  },
  {
   "cell_type": "code",
   "execution_count": 28,
   "id": "9fe439b0-debe-44b6-9d89-58402de73a83",
   "metadata": {},
   "outputs": [
    {
     "name": "stdout",
     "output_type": "stream",
     "text": [
      "Liked Tweets Info\n",
      "\n",
      "\n",
      "Name: Narendra Modi\n",
      "User Name: @narendramodi\n",
      "When: Jan 13\n",
      "Total Likes: 20.6K\n",
      "Total Re Tweets: 3,406\n",
      "Total Reply: 676\n",
      "\n",
      "-----------------------------------------Post:-----------------------------------------\n",
      " India government official\n",
      "Interacted with leading economists and thinkers. They shared insightful perspectives on various issues relating to the economy. https://pib.gov.in/PressReleseDetailm.aspx?PRID=1891045…\n",
      "\n",
      "\n",
      "Name: Elon Musk\n",
      "User Name: @elonmusk\n",
      "When: Jan 14\n",
      "Total Likes: 55.6K\n",
      "Total Re Tweets: 6,887\n",
      "Total Reply: 4,828\n",
      "\n",
      "-----------------------------------------Post:-----------------------------------------\n",
      " Good assessment of our goal\n",
      "therabbithole84.substack.com\n",
      "Trust as a Service (TaaS): A Vision for Twitter\n",
      "When analyzing the market space inhabited by both traditional and new-age media companies one of the necessary prerequisites for customer buy-in is Trust. Without trust, people can not consume a...\n",
      "\n",
      "\n"
     ]
    },
    {
     "name": "stdin",
     "output_type": "stream",
     "text": [
      "Want to load more? 1 for YES, any other number for NO: 1\n"
     ]
    },
    {
     "name": "stdout",
     "output_type": "stream",
     "text": [
      "Name: Narendra Modi\n",
      "User Name: @narendramodi\n",
      "When: Jan 13\n",
      "Total Likes: 20.6K\n",
      "Total Re Tweets: 3,406\n",
      "Total Reply: 676\n",
      "\n",
      "-----------------------------------------Post:-----------------------------------------\n",
      " India government official\n",
      "Interacted with leading economists and thinkers. They shared insightful perspectives on various issues relating to the economy. https://pib.gov.in/PressReleseDetailm.aspx?PRID=1891045…\n",
      "\n",
      "\n",
      "Name: Elon Musk\n",
      "User Name: @elonmusk\n",
      "When: Jan 14\n",
      "Total Likes: 55.6K\n",
      "Total Re Tweets: 6,887\n",
      "Total Reply: 4,828\n",
      "\n",
      "-----------------------------------------Post:-----------------------------------------\n",
      " Good assessment of our goal\n",
      "therabbithole84.substack.com\n",
      "Trust as a Service (TaaS): A Vision for Twitter\n",
      "When analyzing the market space inhabited by both traditional and new-age media companies one of the necessary prerequisites for customer buy-in is Trust. Without trust, people can not consume a...\n",
      "\n",
      "\n"
     ]
    },
    {
     "name": "stdin",
     "output_type": "stream",
     "text": [
      "Want to load more? 1 for YES, any other number for NO: 0\n"
     ]
    }
   ],
   "source": [
    "print(\"Liked Tweets Info\\n\\n\")\n",
    "a = 1\n",
    "\n",
    "try:\n",
    "    while(a == 1):\n",
    "        allLikedArticles = driver.find_elements_by_tag_name('article')\n",
    "        for article in allLikedArticles:\n",
    "            article = article.text.split('\\n')\n",
    "            try:\n",
    "                article.remove('·')\n",
    "            except:\n",
    "                article = article\n",
    "\n",
    "            n = article[0]\n",
    "            u = article[1]\n",
    "            when = article[2]\n",
    "            l = article[-1]\n",
    "            rt = article[-2]\n",
    "            rply = article[-3]\n",
    "            # view = article[-4]\n",
    "            post = article[3: len(article) - 4]\n",
    "            post = '\\n'.join(post)\n",
    "            print(\"Name:\", n)\n",
    "            print(\"User Name:\", u)\n",
    "            print(\"When:\", when)\n",
    "            print(\"Total Likes:\", l)\n",
    "            print(\"Total Re Tweets:\", rt)\n",
    "            print(\"Total Reply:\", rply)\n",
    "            # print(\"Total Views:\", view)\n",
    "            print(\"\\n-----------------------------------------Post:-----------------------------------------\\n\", post)\n",
    "            print(\"\\n\")\n",
    "        a = eval(input(\"Want to load more? 1 for YES, any other number for NO:\"))\n",
    "        if(a == 1):\n",
    "            driver.execute_script('window.scrollTo(0, document.body.scrollHeight);')\n",
    "            sleep(1)\n",
    "except:\n",
    "    print(\"Error! You may have entered some text\")"
   ]
  },
  {
   "cell_type": "code",
   "execution_count": 29,
   "id": "f00b5089-e1f5-46ae-9edc-58c0e00b3f59",
   "metadata": {},
   "outputs": [],
   "source": [
    "driver.get('https://twitter.com/{}/media'.format(username))"
   ]
  },
  {
   "cell_type": "code",
   "execution_count": 30,
   "id": "d56fe2e7-1a44-4a53-bcf3-a7e68e452fec",
   "metadata": {},
   "outputs": [],
   "source": [
    "homeTimeline = driver.find_element_by_xpath('//div[@aria-label=\"Home timeline\"]')\n",
    "homeTimeline = homeTimeline.text.split('\\n')"
   ]
  },
  {
   "cell_type": "code",
   "execution_count": 31,
   "id": "11a6022e-0c77-4b9a-aa36-b4ceee4b5a1b",
   "metadata": {},
   "outputs": [
    {
     "name": "stdout",
     "output_type": "stream",
     "text": [
      "0 Photos & videos\n"
     ]
    }
   ],
   "source": [
    "media = homeTimeline[1]\n",
    "print(media)"
   ]
  },
  {
   "cell_type": "code",
   "execution_count": 31,
   "id": "ec85f085-72aa-437e-8ba8-a27a03be9ef0",
   "metadata": {},
   "outputs": [],
   "source": [
    "driver.get('https://twitter.com/{}/photo'.format(username))"
   ]
  },
  {
   "cell_type": "code",
   "execution_count": 32,
   "id": "d7785f3d-5dc3-4027-9f3c-63ebbb5983f8",
   "metadata": {},
   "outputs": [
    {
     "name": "stdout",
     "output_type": "stream",
     "text": [
      "Profile Picture URL: https://pbs.twimg.com/profile_images/1436853751516598275/Uhddtt69_400x400.jpg\n"
     ]
    },
    {
     "data": {
      "image/jpeg": "[encoded data removed]",
      "text/plain": [
       "<IPython.core.display.Image object>"
      ]
     },
     "execution_count": 32,
     "metadata": {},
     "output_type": "execute_result"
    }
   ],
   "source": [
    "profilePicture = driver.find_element_by_xpath('//img').get_attribute('src')\n",
    "print(\"Profile Picture URL:\", profilePicture)\n",
    "from IPython import display\n",
    "display.Image(profilePicture)"
   ]
  },
  {
   "cell_type": "code",
   "execution_count": 33,
   "id": "73a69fe1-fd70-4142-952a-3fa74fb856bc",
   "metadata": {},
   "outputs": [],
   "source": [
    "driver.get('https://twitter.com/{}/header_photo'.format(username))"
   ]
  },
  {
   "cell_type": "code",
   "execution_count": 35,
   "id": "b26ed11c-b89e-4b75-bed2-2e96324dff16",
   "metadata": {},
   "outputs": [
    {
     "name": "stdout",
     "output_type": "stream",
     "text": [
      "Background Picture URL: https://pbs.twimg.com/profile_banners/1150362144514248704/1622386409/1500x500\n"
     ]
    },
    {
     "data": {
      "image/jpeg": "[encoded data removed]",
      "text/plain": [
       "<IPython.core.display.Image object>"
      ]
     },
     "execution_count": 35,
     "metadata": {},
     "output_type": "execute_result"
    }
   ],
   "source": [
    "backgroundImage = driver.find_element_by_xpath('//img').get_attribute('src')\n",
    "print(\"Background Picture URL:\", backgroundImage)\n",
    "import requests\n",
    "display.Image((requests.get(backgroundImage).content))"
   ]
  },
  {
   "cell_type": "code",
   "execution_count": null,
   "id": "78ee658a-5a58-4df2-ba17-2c77ae95fd46",
   "metadata": {},
   "outputs": [],
   "source": []
  }
 ],
 "metadata": {
  "kernelspec": {
   "display_name": "Python 3 (ipykernel)",
   "language": "python",
   "name": "python3"
  },
  "language_info": {
   "codemirror_mode": {
    "name": "ipython",
    "version": 3
   },
   "file_extension": ".py",
   "mimetype": "text/x-python",
   "name": "python",
   "nbconvert_exporter": "python",
   "pygments_lexer": "ipython3",
   "version": "3.9.13"
  }
 },
 "nbformat": 4,
 "nbformat_minor": 5
}
