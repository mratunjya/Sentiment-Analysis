{
 "cells": [
  {
   "cell_type": "code",
   "execution_count": 1,
   "id": "422ffaf6",
   "metadata": {},
   "outputs": [],
   "source": [
    "#%cd twint\n",
    "#!pip3 install . -r requirements.txt"
   ]
  },
  {
   "cell_type": "code",
   "execution_count": 2,
   "id": "59ca9964",
   "metadata": {},
   "outputs": [],
   "source": [
    "#Solve compatibility issues with Notebook and Runtime Errors\n",
    "import nest_asyncio\n",
    "nest_asyncio.apply()"
   ]
  },
  {
   "cell_type": "code",
   "execution_count": 3,
   "id": "aa3029a4",
   "metadata": {},
   "outputs": [],
   "source": [
    "import twint\n",
    "import pandas as pd"
   ]
  },
  {
   "cell_type": "code",
   "execution_count": 23,
   "id": "3d466bb8",
   "metadata": {},
   "outputs": [
    {
     "name": "stdout",
     "output_type": "stream",
     "text": [
      "1621103305538830336 2023-02-02 16:38:41 +0530 <pathak__aditya> @aajtak Good budget for India, focused on every sector for the economic growth of the country. #Budget2023\n",
      "1621098538724904961 2023-02-02 16:19:44 +0530 <pathak__aditya> @yrf Pathaan is a great movie. Great work by all the actors. Much entertained #movies #entertainment\n",
      "1621097457940824064 2023-02-02 16:15:27 +0530 <pathak__aditya> Heartiest congratulations to Dr. Manmohan Singh for Lifetime achievement award for his economic and political contribution to the nation.\n",
      "[!] No more data! Scraping will stop now.\n",
      "found 0 deleted tweets in this search.\n"
     ]
    }
   ],
   "source": [
    "# Configure\n",
    "c = twint.Config()\n",
    "c.Username = \"pathak__aditya\"\n",
    "c.Limit = 1000\n",
    "c.Pandas = True\n",
    "#c.Search = \"tesla\"\n",
    "#c.Store_csv = True\n",
    "#c.Output = \"data.csv\"\n",
    "#c.All = \"elonmusk\"\n",
    "# c.Retweets = True\n",
    "# c.Profile_full = True\n",
    "\n",
    "# Run\n",
    "twint.run.Search(c)\n",
    "\n",
    "#Store it in DataFrame\n",
    "Tweets_df = twint.storage.panda.Tweets_df"
   ]
  },
  {
   "cell_type": "code",
   "execution_count": 24,
   "id": "05a9275b",
   "metadata": {},
   "outputs": [
    {
     "data": {
      "text/html": [
       "<div>\n",
       "<style scoped>\n",
       "    .dataframe tbody tr th:only-of-type {\n",
       "        vertical-align: middle;\n",
       "    }\n",
       "\n",
       "    .dataframe tbody tr th {\n",
       "        vertical-align: top;\n",
       "    }\n",
       "\n",
       "    .dataframe thead th {\n",
       "        text-align: right;\n",
       "    }\n",
       "</style>\n",
       "<table border=\"1\" class=\"dataframe\">\n",
       "  <thead>\n",
       "    <tr style=\"text-align: right;\">\n",
       "      <th></th>\n",
       "      <th>id</th>\n",
       "      <th>conversation_id</th>\n",
       "      <th>created_at</th>\n",
       "      <th>date</th>\n",
       "      <th>timezone</th>\n",
       "      <th>place</th>\n",
       "      <th>tweet</th>\n",
       "      <th>language</th>\n",
       "      <th>hashtags</th>\n",
       "      <th>cashtags</th>\n",
       "      <th>...</th>\n",
       "      <th>geo</th>\n",
       "      <th>source</th>\n",
       "      <th>user_rt_id</th>\n",
       "      <th>user_rt</th>\n",
       "      <th>retweet_id</th>\n",
       "      <th>reply_to</th>\n",
       "      <th>retweet_date</th>\n",
       "      <th>translate</th>\n",
       "      <th>trans_src</th>\n",
       "      <th>trans_dest</th>\n",
       "    </tr>\n",
       "  </thead>\n",
       "  <tbody>\n",
       "    <tr>\n",
       "      <th>0</th>\n",
       "      <td>1621103305538830336</td>\n",
       "      <td>1620648628749762560</td>\n",
       "      <td>1.675336e+12</td>\n",
       "      <td>2023-02-02 16:38:41</td>\n",
       "      <td>+0530</td>\n",
       "      <td></td>\n",
       "      <td>@aajtak Good budget for India, focused on ever...</td>\n",
       "      <td>en</td>\n",
       "      <td>[budget2023]</td>\n",
       "      <td>[]</td>\n",
       "      <td>...</td>\n",
       "      <td></td>\n",
       "      <td></td>\n",
       "      <td></td>\n",
       "      <td></td>\n",
       "      <td></td>\n",
       "      <td>[{'screen_name': 'aajtak', 'name': 'AajTak', '...</td>\n",
       "      <td></td>\n",
       "      <td></td>\n",
       "      <td></td>\n",
       "      <td></td>\n",
       "    </tr>\n",
       "    <tr>\n",
       "      <th>1</th>\n",
       "      <td>1621098538724904961</td>\n",
       "      <td>1620717316458807296</td>\n",
       "      <td>1.675335e+12</td>\n",
       "      <td>2023-02-02 16:19:44</td>\n",
       "      <td>+0530</td>\n",
       "      <td></td>\n",
       "      <td>@yrf Pathaan is a great movie. Great work by a...</td>\n",
       "      <td>en</td>\n",
       "      <td>[movies, entertainment]</td>\n",
       "      <td>[]</td>\n",
       "      <td>...</td>\n",
       "      <td></td>\n",
       "      <td></td>\n",
       "      <td></td>\n",
       "      <td></td>\n",
       "      <td></td>\n",
       "      <td>[{'screen_name': 'yrf', 'name': 'Yash Raj Film...</td>\n",
       "      <td></td>\n",
       "      <td></td>\n",
       "      <td></td>\n",
       "      <td></td>\n",
       "    </tr>\n",
       "    <tr>\n",
       "      <th>2</th>\n",
       "      <td>1621097457940824064</td>\n",
       "      <td>1621097457940824064</td>\n",
       "      <td>1.675335e+12</td>\n",
       "      <td>2023-02-02 16:15:27</td>\n",
       "      <td>+0530</td>\n",
       "      <td></td>\n",
       "      <td>Heartiest congratulations to Dr. Manmohan Sing...</td>\n",
       "      <td>en</td>\n",
       "      <td>[]</td>\n",
       "      <td>[]</td>\n",
       "      <td>...</td>\n",
       "      <td></td>\n",
       "      <td></td>\n",
       "      <td></td>\n",
       "      <td></td>\n",
       "      <td></td>\n",
       "      <td>[]</td>\n",
       "      <td></td>\n",
       "      <td></td>\n",
       "      <td></td>\n",
       "      <td></td>\n",
       "    </tr>\n",
       "  </tbody>\n",
       "</table>\n",
       "<p>3 rows × 38 columns</p>\n",
       "</div>"
      ],
      "text/plain": [
       "                    id      conversation_id    created_at  \\\n",
       "0  1621103305538830336  1620648628749762560  1.675336e+12   \n",
       "1  1621098538724904961  1620717316458807296  1.675335e+12   \n",
       "2  1621097457940824064  1621097457940824064  1.675335e+12   \n",
       "\n",
       "                  date timezone place  \\\n",
       "0  2023-02-02 16:38:41    +0530         \n",
       "1  2023-02-02 16:19:44    +0530         \n",
       "2  2023-02-02 16:15:27    +0530         \n",
       "\n",
       "                                               tweet language  \\\n",
       "0  @aajtak Good budget for India, focused on ever...       en   \n",
       "1  @yrf Pathaan is a great movie. Great work by a...       en   \n",
       "2  Heartiest congratulations to Dr. Manmohan Sing...       en   \n",
       "\n",
       "                  hashtags cashtags  ...  geo source user_rt_id user_rt  \\\n",
       "0             [budget2023]       []  ...                                  \n",
       "1  [movies, entertainment]       []  ...                                  \n",
       "2                       []       []  ...                                  \n",
       "\n",
       "   retweet_id                                           reply_to retweet_date  \\\n",
       "0              [{'screen_name': 'aajtak', 'name': 'AajTak', '...                \n",
       "1              [{'screen_name': 'yrf', 'name': 'Yash Raj Film...                \n",
       "2                                                             []                \n",
       "\n",
       "  translate trans_src  trans_dest  \n",
       "0                                  \n",
       "1                                  \n",
       "2                                  \n",
       "\n",
       "[3 rows x 38 columns]"
      ]
     },
     "execution_count": 24,
     "metadata": {},
     "output_type": "execute_result"
    }
   ],
   "source": [
    "Tweets_df"
   ]
  },
  {
   "cell_type": "code",
   "execution_count": 6,
   "id": "71edf471",
   "metadata": {},
   "outputs": [],
   "source": [
    "#Create Functions to get column names and extract required column dataframe\n",
    "def column_names():\n",
    "    return twint.output.panda.Tweets_df.columns\n",
    "def twint_to_pd(columns):\n",
    "    return twint.output.panda.Tweets_df[columns]"
   ]
  },
  {
   "cell_type": "code",
   "execution_count": 7,
   "id": "242c596a",
   "metadata": {},
   "outputs": [
    {
     "data": {
      "text/plain": [
       "Index(['id', 'conversation_id', 'created_at', 'date', 'timezone', 'place',\n",
       "       'tweet', 'language', 'hashtags', 'cashtags', 'user_id', 'user_id_str',\n",
       "       'username', 'name', 'day', 'hour', 'link', 'urls', 'photos', 'video',\n",
       "       'thumbnail', 'retweet', 'nlikes', 'nreplies', 'nretweets', 'quote_url',\n",
       "       'search', 'near', 'geo', 'source', 'user_rt_id', 'user_rt',\n",
       "       'retweet_id', 'reply_to', 'retweet_date', 'translate', 'trans_src',\n",
       "       'trans_dest'],\n",
       "      dtype='object')"
      ]
     },
     "execution_count": 7,
     "metadata": {},
     "output_type": "execute_result"
    }
   ],
   "source": [
    "column_names()"
   ]
  },
  {
   "cell_type": "code",
   "execution_count": 8,
   "id": "d24e8862",
   "metadata": {},
   "outputs": [],
   "source": [
    "tweet_df = twint_to_pd([\"tweet\"])"
   ]
  },
  {
   "cell_type": "code",
   "execution_count": 9,
   "id": "2be8f8e6",
   "metadata": {},
   "outputs": [
    {
     "data": {
      "text/html": [
       "<div>\n",
       "<style scoped>\n",
       "    .dataframe tbody tr th:only-of-type {\n",
       "        vertical-align: middle;\n",
       "    }\n",
       "\n",
       "    .dataframe tbody tr th {\n",
       "        vertical-align: top;\n",
       "    }\n",
       "\n",
       "    .dataframe thead th {\n",
       "        text-align: right;\n",
       "    }\n",
       "</style>\n",
       "<table border=\"1\" class=\"dataframe\">\n",
       "  <thead>\n",
       "    <tr style=\"text-align: right;\">\n",
       "      <th></th>\n",
       "      <th>tweet</th>\n",
       "    </tr>\n",
       "  </thead>\n",
       "  <tbody>\n",
       "    <tr>\n",
       "      <th>0</th>\n",
       "      <td>@aajtak Good budget for India, focused on ever...</td>\n",
       "    </tr>\n",
       "    <tr>\n",
       "      <th>1</th>\n",
       "      <td>@yrf Pathaan is a great movie. Great work by a...</td>\n",
       "    </tr>\n",
       "    <tr>\n",
       "      <th>2</th>\n",
       "      <td>Heartiest congratulations to Dr. Manmohan Sing...</td>\n",
       "    </tr>\n",
       "    <tr>\n",
       "      <th>3</th>\n",
       "      <td>@akshay___sh I think degree not only can defin...</td>\n",
       "    </tr>\n",
       "  </tbody>\n",
       "</table>\n",
       "</div>"
      ],
      "text/plain": [
       "                                               tweet\n",
       "0  @aajtak Good budget for India, focused on ever...\n",
       "1  @yrf Pathaan is a great movie. Great work by a...\n",
       "2  Heartiest congratulations to Dr. Manmohan Sing...\n",
       "3  @akshay___sh I think degree not only can defin..."
      ]
     },
     "execution_count": 9,
     "metadata": {},
     "output_type": "execute_result"
    }
   ],
   "source": [
    "tweet_df.head(20)"
   ]
  },
  {
   "cell_type": "code",
   "execution_count": 10,
   "id": "45e272ae",
   "metadata": {},
   "outputs": [
    {
     "name": "stderr",
     "output_type": "stream",
     "text": [
      "C:\\Users\\mratu\\AppData\\Local\\Temp\\ipykernel_22480\\2858003785.py:3: SettingWithCopyWarning: \n",
      "A value is trying to be set on a copy of a slice from a DataFrame.\n",
      "Try using .loc[row_indexer,col_indexer] = value instead\n",
      "\n",
      "See the caveats in the documentation: https://pandas.pydata.org/pandas-docs/stable/user_guide/indexing.html#returning-a-view-versus-a-copy\n",
      "  tweet_df[\"class\"] = x\n"
     ]
    }
   ],
   "source": [
    "x = [\"politics\"]*len(tweet_df.axes[0])\n",
    "x = pd.DataFrame(x,columns =[\"class\"])\n",
    "tweet_df[\"class\"] = x"
   ]
  },
  {
   "cell_type": "code",
   "execution_count": 11,
   "id": "8f75dd67",
   "metadata": {},
   "outputs": [
    {
     "data": {
      "text/html": [
       "<div>\n",
       "<style scoped>\n",
       "    .dataframe tbody tr th:only-of-type {\n",
       "        vertical-align: middle;\n",
       "    }\n",
       "\n",
       "    .dataframe tbody tr th {\n",
       "        vertical-align: top;\n",
       "    }\n",
       "\n",
       "    .dataframe thead th {\n",
       "        text-align: right;\n",
       "    }\n",
       "</style>\n",
       "<table border=\"1\" class=\"dataframe\">\n",
       "  <thead>\n",
       "    <tr style=\"text-align: right;\">\n",
       "      <th></th>\n",
       "      <th>tweet</th>\n",
       "      <th>class</th>\n",
       "    </tr>\n",
       "  </thead>\n",
       "  <tbody>\n",
       "    <tr>\n",
       "      <th>0</th>\n",
       "      <td>@aajtak Good budget for India, focused on ever...</td>\n",
       "      <td>politics</td>\n",
       "    </tr>\n",
       "    <tr>\n",
       "      <th>1</th>\n",
       "      <td>@yrf Pathaan is a great movie. Great work by a...</td>\n",
       "      <td>politics</td>\n",
       "    </tr>\n",
       "    <tr>\n",
       "      <th>2</th>\n",
       "      <td>Heartiest congratulations to Dr. Manmohan Sing...</td>\n",
       "      <td>politics</td>\n",
       "    </tr>\n",
       "    <tr>\n",
       "      <th>3</th>\n",
       "      <td>@akshay___sh I think degree not only can defin...</td>\n",
       "      <td>politics</td>\n",
       "    </tr>\n",
       "  </tbody>\n",
       "</table>\n",
       "</div>"
      ],
      "text/plain": [
       "                                               tweet     class\n",
       "0  @aajtak Good budget for India, focused on ever...  politics\n",
       "1  @yrf Pathaan is a great movie. Great work by a...  politics\n",
       "2  Heartiest congratulations to Dr. Manmohan Sing...  politics\n",
       "3  @akshay___sh I think degree not only can defin...  politics"
      ]
     },
     "execution_count": 11,
     "metadata": {},
     "output_type": "execute_result"
    }
   ],
   "source": [
    "tweet_df"
   ]
  },
  {
   "cell_type": "code",
   "execution_count": 12,
   "id": "90ac49e4",
   "metadata": {},
   "outputs": [],
   "source": [
    "tweet_df.to_csv(\"data.csv\", mode ='w', encoding = 'utf-8-sig')"
   ]
  },
  {
   "cell_type": "code",
   "execution_count": null,
   "id": "c1a79f4f",
   "metadata": {},
   "outputs": [],
   "source": []
  }
 ],
 "metadata": {
  "kernelspec": {
   "display_name": "Python 3 (ipykernel)",
   "language": "python",
   "name": "python3"
  },
  "language_info": {
   "codemirror_mode": {
    "name": "ipython",
    "version": 3
   },
   "file_extension": ".py",
   "mimetype": "text/x-python",
   "name": "python",
   "nbconvert_exporter": "python",
   "pygments_lexer": "ipython3",
   "version": "3.11.1"
  },
  "vscode": {
   "interpreter": {
    "hash": "fb03e40e29202101e35e7eac5ac7c3f9e578fd5bcf472f000b8e3d16cb0c0e86"
   }
  }
 },
 "nbformat": 4,
 "nbformat_minor": 5
}
